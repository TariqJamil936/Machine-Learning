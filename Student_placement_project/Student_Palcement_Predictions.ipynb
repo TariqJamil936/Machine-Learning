{
 "cells": [
  {
   "cell_type": "markdown",
   "id": "8997e627",
   "metadata": {},
   "source": [
    "# 🧠 Project Overview\n",
    "### This project predicts whether a student will get placed (1) or not (0) based on two factors:\n",
    "## CGPA (Cumulative Grade Point Average)\n",
    "## IQ (Intelligence Quotient)\n",
    "### We use Logistic Regression, a popular classification algorithm, to model the relationship between these features and placement status."
   ]
  },
  {
   "cell_type": "markdown",
   "id": "eddc1d99",
   "metadata": {},
   "source": [
    "## 🪜 Steps Overview\n",
    "\n",
    "### 1. Preprocessing + Exploratory Data Analysis (EDA)\n",
    "\n",
    "### 2. Feature Selection\n",
    "\n",
    "### 3. Train-Test Split\n",
    "\n",
    "### 4. Feature Scaling\n",
    "\n",
    "### 5. Model Training\n",
    "\n",
    "### 6. Model Evaluation / Model Selection\n",
    "\n",
    "### 7. Model Deployment"
   ]
  },
  {
   "cell_type": "code",
   "execution_count": null,
   "id": "91c767e0",
   "metadata": {},
   "outputs": [],
   "source": [
    "# Import Libraries and Load Dataset\n",
    "import numpy as np\n",
    "import pandas as pd\n",
    "import matplotlib.pyplot as plt"
   ]
  },
  {
   "cell_type": "code",
   "execution_count": null,
   "id": "4ca9c230",
   "metadata": {},
   "outputs": [],
   "source": [
    "df = pd.read_csv('placement.csv')"
   ]
  },
  {
   "cell_type": "code",
   "execution_count": null,
   "id": "d642a90f",
   "metadata": {},
   "outputs": [],
   "source": [
    "df.head()"
   ]
  },
  {
   "cell_type": "code",
   "execution_count": null,
   "id": "019b1173",
   "metadata": {},
   "outputs": [],
   "source": [
    "df.info()"
   ]
  },
  {
   "cell_type": "code",
   "execution_count": null,
   "id": "4ca61291",
   "metadata": {},
   "outputs": [],
   "source": [
    "df.shape"
   ]
  },
  {
   "cell_type": "markdown",
   "id": "1d42e61a",
   "metadata": {},
   "source": [
    "### Step 1: Basic Cleaning "
   ]
  },
  {
   "cell_type": "code",
   "execution_count": null,
   "id": "89b8c303",
   "metadata": {},
   "outputs": [],
   "source": [
    "df = df.iloc[:,1:]"
   ]
  },
  {
   "cell_type": "code",
   "execution_count": null,
   "id": "2a4b05dd",
   "metadata": {},
   "outputs": [],
   "source": [
    "df.head()"
   ]
  },
  {
   "cell_type": "markdown",
   "id": "bf9aca55",
   "metadata": {},
   "source": [
    "### Step 2: Data Visualization (EDA)"
   ]
  },
  {
   "cell_type": "code",
   "execution_count": null,
   "id": "f881eccd",
   "metadata": {},
   "outputs": [],
   "source": [
    "plt.scatter(df['cgpa'], df['iq'], c=df['placement'])\n",
    "plt.xlabel('CGPA')\n",
    "plt.ylabel('IQ')\n",
    "plt.title('CGPA vs IQ (Colored by Placement)')\n",
    "plt.show()"
   ]
  },
  {
   "cell_type": "markdown",
   "id": "0391db51",
   "metadata": {},
   "source": [
    "### Step 3: Feature Selection\n",
    "#### We separated:\n",
    "#### Input (X): CGPA and IQ\n",
    "#### Output (y): Placement (1 or 0)\n",
    "#### This is a supervised learning setup because we know the correct outputs."
   ]
  },
  {
   "cell_type": "code",
   "execution_count": null,
   "id": "bcf2e2e7",
   "metadata": {},
   "outputs": [],
   "source": [
    "X = df.iloc[:,0:2]\n",
    "y = df.iloc[:,-1]"
   ]
  },
  {
   "cell_type": "code",
   "execution_count": null,
   "id": "c2f7ac34",
   "metadata": {},
   "outputs": [],
   "source": [
    "X"
   ]
  },
  {
   "cell_type": "code",
   "execution_count": null,
   "id": "48f9880e",
   "metadata": {},
   "outputs": [],
   "source": [
    "y"
   ]
  },
  {
   "cell_type": "code",
   "execution_count": null,
   "id": "d19905f4",
   "metadata": {},
   "outputs": [],
   "source": [
    "y.shape"
   ]
  },
  {
   "cell_type": "code",
   "execution_count": null,
   "id": "f6800443",
   "metadata": {},
   "outputs": [],
   "source": [
    "X.shape"
   ]
  },
  {
   "cell_type": "markdown",
   "id": "ff0a637c",
   "metadata": {},
   "source": [
    "### Step 4: Train-Test Split"
   ]
  },
  {
   "cell_type": "markdown",
   "id": "b4d797d3",
   "metadata": {},
   "source": [
    "#### We split the data into:\n",
    "#### Training set (90%) → used to train the model\n",
    "#### Testing set (10%) → used to check how well the model generalizes\n",
    "#### random_state=42 ensures reproducibility (same split every time).\n",
    "#### Prevents overfitting by testing on unseen data."
   ]
  },
  {
   "cell_type": "code",
   "execution_count": null,
   "id": "5ce22b5b",
   "metadata": {},
   "outputs": [],
   "source": [
    "from sklearn.model_selection import train_test_split\n",
    "X_train,X_test,y_train,y_test = train_test_split(X,y,test_size=0.1)"
   ]
  },
  {
   "cell_type": "code",
   "execution_count": null,
   "id": "4eac5c9c",
   "metadata": {},
   "outputs": [],
   "source": [
    "X_train"
   ]
  },
  {
   "cell_type": "code",
   "execution_count": null,
   "id": "c1f004a9",
   "metadata": {},
   "outputs": [],
   "source": [
    "y_train"
   ]
  },
  {
   "cell_type": "code",
   "execution_count": null,
   "id": "559493d7",
   "metadata": {},
   "outputs": [],
   "source": [
    "X_test"
   ]
  },
  {
   "cell_type": "markdown",
   "id": "42b7667c",
   "metadata": {},
   "source": [
    "### Step 5: Feature Scaling"
   ]
  },
  {
   "attachments": {
    "image.png": {
     "image/png": "[encoded data removed]"
    }
   },
   "cell_type": "markdown",
   "id": "3c1ae011",
   "metadata": {},
   "source": [
    "#### Why: CGPA and IQ have different ranges.\n",
    "#### StandardScaler: standardizes features → mean = 0, standard deviation = 1\n",
    "#### This helps Logistic Regression converge faster and gives equal importance to both features.\n",
    "#### Formula:\n",
    "![image.png](attachment:image.png)"
   ]
  },
  {
   "cell_type": "code",
   "execution_count": null,
   "id": "a1300f0d",
   "metadata": {},
   "outputs": [],
   "source": [
    "from sklearn.preprocessing import StandardScaler"
   ]
  },
  {
   "cell_type": "code",
   "execution_count": null,
   "id": "17ea604a",
   "metadata": {},
   "outputs": [],
   "source": [
    "scaler = StandardScaler() "
   ]
  },
  {
   "cell_type": "code",
   "execution_count": null,
   "id": "0800d754",
   "metadata": {},
   "outputs": [],
   "source": [
    "X_train = scaler.fit_transform(X_train)"
   ]
  },
  {
   "cell_type": "code",
   "execution_count": null,
   "id": "b8f3e1ec",
   "metadata": {},
   "outputs": [],
   "source": [
    "X_train"
   ]
  },
  {
   "cell_type": "markdown",
   "id": "479d5005",
   "metadata": {},
   "source": [
    "### Step 6: Model Training (Logistic Regression)"
   ]
  },
  {
   "attachments": {
    "image.png": {
     "image/png": "[encoded data removed]"
    }
   },
   "cell_type": "markdown",
   "id": "0efb41c7",
   "metadata": {},
   "source": [
    "#### Logistic Regression is used because the target variable (placement) is binary (0 or 1).\n",
    "#### It models the probability that a student will be placed based on CGPA and IQ.\n",
    "#### Mathematical idea:\n",
    "![image.png](attachment:image.png)\n",
    "#### If 𝑃 > 0.5 → student is placed; otherwise not."
   ]
  },
  {
   "cell_type": "code",
   "execution_count": null,
   "id": "5131ddac",
   "metadata": {},
   "outputs": [],
   "source": [
    "from sklearn.linear_model import LogisticRegression"
   ]
  },
  {
   "cell_type": "code",
   "execution_count": null,
   "id": "8184a196",
   "metadata": {},
   "outputs": [],
   "source": [
    "clf = LogisticRegression()"
   ]
  },
  {
   "cell_type": "code",
   "execution_count": null,
   "id": "4405437a",
   "metadata": {},
   "outputs": [],
   "source": [
    "# model training\n",
    "clf.fit(X_train,y_train)"
   ]
  },
  {
   "cell_type": "code",
   "execution_count": null,
   "id": "d45b24e9",
   "metadata": {},
   "outputs": [],
   "source": [
    "y_pred = clf.predict(X_test)"
   ]
  },
  {
   "cell_type": "code",
   "execution_count": null,
   "id": "eaf8d5ce",
   "metadata": {},
   "outputs": [],
   "source": [
    "y_test"
   ]
  },
  {
   "cell_type": "markdown",
   "id": "5a867a26",
   "metadata": {},
   "source": [
    "### Step 7: Model Prediction and Evaluation"
   ]
  },
  {
   "cell_type": "code",
   "execution_count": null,
   "id": "235b1eb6",
   "metadata": {},
   "outputs": [],
   "source": [
    "from sklearn.metrics import accuracy_score\n"
   ]
  },
  {
   "cell_type": "code",
   "execution_count": null,
   "id": "aa0e8071",
   "metadata": {},
   "outputs": [],
   "source": [
    "accuracy_score(y_test,y_pred)\n"
   ]
  },
  {
   "cell_type": "markdown",
   "id": "a681015a",
   "metadata": {},
   "source": [
    "### Step 8: Visualizing the Decision Boundary"
   ]
  },
  {
   "cell_type": "markdown",
   "id": "80a4b495",
   "metadata": {},
   "source": [
    "#### This plot shows how the model separates the two classes (placed vs not placed)."
   ]
  },
  {
   "cell_type": "code",
   "execution_count": null,
   "id": "356a95c5",
   "metadata": {},
   "outputs": [],
   "source": [
    "from mlxtend.plotting import plot_decision_regions\n"
   ]
  },
  {
   "cell_type": "code",
   "execution_count": null,
   "id": "bd02f51f",
   "metadata": {},
   "outputs": [],
   "source": [
    "plot_decision_regions(X_train, y_train.values, clf=clf, legend=2)\n"
   ]
  },
  {
   "cell_type": "markdown",
   "id": "442cf087",
   "metadata": {},
   "source": [
    "### Step 9: Model Deployment (Saving the Model)"
   ]
  },
  {
   "cell_type": "markdown",
   "id": "027e31f2",
   "metadata": {},
   "source": [
    "#### Pickle serializes the model and saves it to disk.\n",
    "#### You can later load it and use it in a Flask or Streamlit web app:"
   ]
  },
  {
   "cell_type": "code",
   "execution_count": null,
   "id": "61fa92b9",
   "metadata": {},
   "outputs": [],
   "source": [
    "import pickle\n"
   ]
  },
  {
   "cell_type": "code",
   "execution_count": null,
   "id": "6cc75e15",
   "metadata": {},
   "outputs": [],
   "source": [
    "pickle.dump(clf,open('model.pkl','wb'))\n"
   ]
  }
 ],
 "metadata": {
  "kernelspec": {
   "display_name": "Python 3",
   "language": "python",
   "name": "python3"
  },
  "language_info": {
   "codemirror_mode": {
    "name": "ipython",
    "version": 3
   },
   "file_extension": ".py",
   "mimetype": "text/x-python",
   "name": "python",
   "nbconvert_exporter": "python",
   "pygments_lexer": "ipython3",
   "version": "3.13.7"
  }
 },
 "nbformat": 4,
 "nbformat_minor": 5
}
